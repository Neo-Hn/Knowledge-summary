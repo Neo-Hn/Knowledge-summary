{
 "cells": [
  {
   "cell_type": "markdown",
   "id": "7ee908b2",
   "metadata": {},
   "source": [
    "# 模型操作"
   ]
  },
  {
   "cell_type": "markdown",
   "id": "b4092705",
   "metadata": {},
   "source": [
    "## 模型冻结"
   ]
  },
  {
   "cell_type": "markdown",
   "id": "b0a9ad39",
   "metadata": {},
   "source": [
    "在我们训练模型时，不一定要重新训练模型参数，依照迁移学习理论，我们可以套用以及训练好的模型，\n",
    "然后在需要改的地方改相应参数就行了；那么之前的模型参数就应该把它冻结起来freeze。"
   ]
  },
  {
   "cell_type": "markdown",
   "id": "03bfa1fb",
   "metadata": {},
   "source": [
    "### 导入包"
   ]
  },
  {
   "cell_type": "code",
   "execution_count": 1,
   "id": "95d65098",
   "metadata": {},
   "outputs": [],
   "source": [
    "import torch\n",
    "from torchvision import models  # 这里有框架自带训练好的模型，去torchvision.models可以查看详"
   ]
  },
  {
   "cell_type": "markdown",
   "id": "97835b27",
   "metadata": {},
   "source": [
    "### 加载模型\n",
    "这里以vgg16为例"
   ]
  },
  {
   "cell_type": "code",
   "execution_count": 2,
   "id": "53b8757c",
   "metadata": {},
   "outputs": [],
   "source": [
    "model = models.vgg16(progress = True)"
   ]
  },
  {
   "cell_type": "markdown",
   "id": "3ca573bc",
   "metadata": {},
   "source": [
    "让我们看看模型长啥样"
   ]
  },
  {
   "cell_type": "code",
   "execution_count": 3,
   "id": "5809dd2a",
   "metadata": {},
   "outputs": [
    {
     "name": "stdout",
     "output_type": "stream",
     "text": [
      "VGG(\n",
      "  (features): Sequential(\n",
      "    (0): Conv2d(3, 64, kernel_size=(3, 3), stride=(1, 1), padding=(1, 1))\n",
      "    (1): ReLU(inplace=True)\n",
      "    (2): Conv2d(64, 64, kernel_size=(3, 3), stride=(1, 1), padding=(1, 1))\n",
      "    (3): ReLU(inplace=True)\n",
      "    (4): MaxPool2d(kernel_size=2, stride=2, padding=0, dilation=1, ceil_mode=False)\n",
      "    (5): Conv2d(64, 128, kernel_size=(3, 3), stride=(1, 1), padding=(1, 1))\n",
      "    (6): ReLU(inplace=True)\n",
      "    (7): Conv2d(128, 128, kernel_size=(3, 3), stride=(1, 1), padding=(1, 1))\n",
      "    (8): ReLU(inplace=True)\n",
      "    (9): MaxPool2d(kernel_size=2, stride=2, padding=0, dilation=1, ceil_mode=False)\n",
      "    (10): Conv2d(128, 256, kernel_size=(3, 3), stride=(1, 1), padding=(1, 1))\n",
      "    (11): ReLU(inplace=True)\n",
      "    (12): Conv2d(256, 256, kernel_size=(3, 3), stride=(1, 1), padding=(1, 1))\n",
      "    (13): ReLU(inplace=True)\n",
      "    (14): Conv2d(256, 256, kernel_size=(3, 3), stride=(1, 1), padding=(1, 1))\n",
      "    (15): ReLU(inplace=True)\n",
      "    (16): MaxPool2d(kernel_size=2, stride=2, padding=0, dilation=1, ceil_mode=False)\n",
      "    (17): Conv2d(256, 512, kernel_size=(3, 3), stride=(1, 1), padding=(1, 1))\n",
      "    (18): ReLU(inplace=True)\n",
      "    (19): Conv2d(512, 512, kernel_size=(3, 3), stride=(1, 1), padding=(1, 1))\n",
      "    (20): ReLU(inplace=True)\n",
      "    (21): Conv2d(512, 512, kernel_size=(3, 3), stride=(1, 1), padding=(1, 1))\n",
      "    (22): ReLU(inplace=True)\n",
      "    (23): MaxPool2d(kernel_size=2, stride=2, padding=0, dilation=1, ceil_mode=False)\n",
      "    (24): Conv2d(512, 512, kernel_size=(3, 3), stride=(1, 1), padding=(1, 1))\n",
      "    (25): ReLU(inplace=True)\n",
      "    (26): Conv2d(512, 512, kernel_size=(3, 3), stride=(1, 1), padding=(1, 1))\n",
      "    (27): ReLU(inplace=True)\n",
      "    (28): Conv2d(512, 512, kernel_size=(3, 3), stride=(1, 1), padding=(1, 1))\n",
      "    (29): ReLU(inplace=True)\n",
      "    (30): MaxPool2d(kernel_size=2, stride=2, padding=0, dilation=1, ceil_mode=False)\n",
      "  )\n",
      "  (avgpool): AdaptiveAvgPool2d(output_size=(7, 7))\n",
      "  (classifier): Sequential(\n",
      "    (0): Linear(in_features=25088, out_features=4096, bias=True)\n",
      "    (1): ReLU(inplace=True)\n",
      "    (2): Dropout(p=0.5, inplace=False)\n",
      "    (3): Linear(in_features=4096, out_features=4096, bias=True)\n",
      "    (4): ReLU(inplace=True)\n",
      "    (5): Dropout(p=0.5, inplace=False)\n",
      "    (6): Linear(in_features=4096, out_features=1000, bias=True)\n",
      "  )\n",
      ")\n"
     ]
    }
   ],
   "source": [
    "print(model)"
   ]
  },
  {
   "cell_type": "markdown",
   "id": "d335d63c",
   "metadata": {},
   "source": [
    "### 冻结参数"
   ]
  },
  {
   "cell_type": "code",
   "execution_count": 4,
   "id": "e2ba1982",
   "metadata": {},
   "outputs": [],
   "source": [
    "for param in model.parameters():\n",
    "    param.requires_grad = False  # 这里的意思就是模型参数不进行参数更新"
   ]
  },
  {
   "cell_type": "markdown",
   "id": "d82b0a61",
   "metadata": {},
   "source": [
    "假如我们要做分类任务，二分类，那么我们要改的就是对全连接层进行更改就行了"
   ]
  },
  {
   "cell_type": "code",
   "execution_count": 5,
   "id": "6c2517db",
   "metadata": {},
   "outputs": [],
   "source": [
    "from torch import nn\n",
    "model.fc = torch.nn.Sequential(nn.Linear(25088, 4096), \n",
    "                               nn.ReLU(), \n",
    "                               nn.Dropout(p=0.5), \n",
    "                               nn.Linear(4096, 4096), \n",
    "                               nn.ReLU(), \n",
    "                               nn.Dropout(p=0.5), \n",
    "                               nn.Linear(4096, 2))"
   ]
  }
 ],
 "metadata": {
  "kernelspec": {
   "display_name": "Python 3",
   "language": "python",
   "name": "python3"
  },
  "language_info": {
   "codemirror_mode": {
    "name": "ipython",
    "version": 3
   },
   "file_extension": ".py",
   "mimetype": "text/x-python",
   "name": "python",
   "nbconvert_exporter": "python",
   "pygments_lexer": "ipython3",
   "version": "3.8.8"
  }
 },
 "nbformat": 4,
 "nbformat_minor": 5
}
