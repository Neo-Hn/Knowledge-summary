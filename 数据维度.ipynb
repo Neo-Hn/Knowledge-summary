{
 "cells": [
  {
   "cell_type": "code",
   "execution_count": 3,
   "id": "640231ca",
   "metadata": {},
   "outputs": [],
   "source": [
    "import numpy as np"
   ]
  },
  {
   "cell_type": "markdown",
   "id": "93882589",
   "metadata": {},
   "source": [
    "# 创建数据"
   ]
  },
  {
   "cell_type": "code",
   "execution_count": 22,
   "id": "4a7598e3",
   "metadata": {},
   "outputs": [
    {
     "name": "stdout",
     "output_type": "stream",
     "text": [
      "a = [[1 2 3 4 5]\n",
      " [5 6 7 8 9]]\n",
      "b = [[ 1  2  3  4  5]\n",
      " [ 6  7  8  9 10]]\n"
     ]
    }
   ],
   "source": [
    "# 创建numpy数组\n",
    "a = np.array([[1, 2, 3, 4, 5], [5, 6, 7, 8, 9]])\n",
    "\n",
    "# 按顺序创建numpy数据，rehape可以改变数组形状和维度\n",
    "b = np.arange(1, 11).reshape(2, 5)\n",
    "\n",
    "print(f'a = {a}')\n",
    "print(f'b = {b}')"
   ]
  },
  {
   "cell_type": "code",
   "execution_count": 23,
   "id": "0a38b42a",
   "metadata": {},
   "outputs": [
    {
     "name": "stdout",
     "output_type": "stream",
     "text": [
      "2\n"
     ]
    }
   ],
   "source": [
    "# array.ndim可以输出数组的维度\n",
    "print(a.ndim)"
   ]
  },
  {
   "cell_type": "markdown",
   "id": "0efef738",
   "metadata": {},
   "source": [
    "# 添加数据"
   ]
  },
  {
   "cell_type": "code",
   "execution_count": 24,
   "id": "d570a539",
   "metadata": {},
   "outputs": [
    {
     "name": "stdout",
     "output_type": "stream",
     "text": [
      "[[ 1  2  3  4  5]\n",
      " [ 5  6  7  8  9]\n",
      " [ 1  2  3  4  5]\n",
      " [ 6  7  8  9 10]]\n",
      "[[ 1  2  3  4  5  1  2  3  4  5]\n",
      " [ 5  6  7  8  9  6  7  8  9 10]]\n"
     ]
    }
   ],
   "source": [
    "# 可以使用np.concatenate()在任意轴上加上数据\n",
    "print(np.concatenate([a, b], axis = 0))  # axis=0代表加在行后面\n",
    "print(np.concatenate([a, b], axis = 1))  # axis=0代表加在列右边"
   ]
  },
  {
   "cell_type": "markdown",
   "id": "0faef736",
   "metadata": {},
   "source": [
    "# 合并数据"
   ]
  },
  {
   "cell_type": "code",
   "execution_count": 26,
   "id": "e98cbc48",
   "metadata": {},
   "outputs": [
    {
     "name": "stdout",
     "output_type": "stream",
     "text": [
      "[[ 1  2  3  4  5]\n",
      " [ 5  6  7  8  9]\n",
      " [ 1  2  3  4  5]\n",
      " [ 6  7  8  9 10]]\n",
      "[[ 1  2  3  4  5  1  2  3  4  5]\n",
      " [ 5  6  7  8  9  6  7  8  9 10]]\n",
      "[[ 1  2  3  4  5]\n",
      " [ 5  6  7  8  9]\n",
      " [ 1  2  3  4  5]\n",
      " [ 6  7  8  9 10]]\n",
      "[[ 1  2  3  4  5  1  2  3  4  5]\n",
      " [ 5  6  7  8  9  6  7  8  9 10]]\n"
     ]
    }
   ],
   "source": [
    "# 可以使用np.concatenate()在任意轴上合并数据\n",
    "print(np.concatenate([a, b], axis = 0))  # axis=0代表加在行后面\n",
    "print(np.concatenate([a, b], axis = 1))  # axis=0代表加在列右边\n",
    "\n",
    "# 也可以使用np.vstack()和np.hstack()\n",
    "print(np.vstack([a, b])) # 水平合并\n",
    "print(np.hstack([a, b])) # 列合并"
   ]
  },
  {
   "cell_type": "markdown",
   "id": "6a10e1cd",
   "metadata": {},
   "source": [
    "# 形态"
   ]
  },
  {
   "cell_type": "code",
   "execution_count": 28,
   "id": "d74ba624",
   "metadata": {},
   "outputs": [
    {
     "name": "stdout",
     "output_type": "stream",
     "text": [
      "(2, 5)\n",
      "2\n",
      "5\n",
      "10\n"
     ]
    }
   ],
   "source": [
    "# 使用np.array.shape\n",
    "print(a.shape)\n",
    "\n",
    "# np.array.shape[0] 可以知道有多少行\n",
    "print(a.shape[0])\n",
    "\n",
    "# np.array.shape[1] 可以知道有多少列\n",
    "print(a.shape[1])\n",
    "\n",
    "# np.array.size是知道array里面有多少数据\n",
    "print(a.size)"
   ]
  }
 ],
 "metadata": {
  "kernelspec": {
   "display_name": "Python 3 (ipykernel)",
   "language": "python",
   "name": "python3"
  },
  "language_info": {
   "codemirror_mode": {
    "name": "ipython",
    "version": 3
   },
   "file_extension": ".py",
   "mimetype": "text/x-python",
   "name": "python",
   "nbconvert_exporter": "python",
   "pygments_lexer": "ipython3",
   "version": "3.9.7"
  }
 },
 "nbformat": 4,
 "nbformat_minor": 5
}
