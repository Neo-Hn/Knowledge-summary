{
 "cells": [
  {
   "cell_type": "markdown",
   "id": "1a4e8a1d",
   "metadata": {},
   "source": [
    "# 带有excel文件图片数据集处理"
   ]
  },
  {
   "cell_type": "markdown",
   "id": "299665ef",
   "metadata": {},
   "source": [
    "### 库导入"
   ]
  },
  {
   "cell_type": "code",
   "execution_count": 13,
   "id": "91b36676",
   "metadata": {},
   "outputs": [],
   "source": [
    "import pandas as pd"
   ]
  },
  {
   "cell_type": "markdown",
   "id": "b9591e23",
   "metadata": {},
   "source": [
    "### 训练集&测试集数据导入"
   ]
  },
  {
   "cell_type": "code",
   "execution_count": 14,
   "id": "ffb0c91d",
   "metadata": {},
   "outputs": [
    {
     "name": "stdout",
     "output_type": "stream",
     "text": [
      "          image             label\n",
      "0  images/0.jpg  maclura_pomifera\n",
      "1  images/1.jpg  maclura_pomifera\n",
      "2  images/2.jpg  maclura_pomifera\n",
      "3  images/3.jpg  maclura_pomifera\n",
      "4  images/4.jpg  maclura_pomifera\n",
      "          image             label\n",
      "0  images/0.jpg  maclura_pomifera\n",
      "1  images/1.jpg  maclura_pomifera\n",
      "2  images/2.jpg  maclura_pomifera\n",
      "3  images/3.jpg  maclura_pomifera\n",
      "4  images/4.jpg  maclura_pomifera\n",
      "                  image             label\n",
      "count             18353             18353\n",
      "unique            18353               176\n",
      "top     images/4803.jpg  maclura_pomifera\n",
      "freq                  1               353\n",
      "                  image             label\n",
      "count             18353             18353\n",
      "unique            18353               176\n",
      "top     images/4803.jpg  maclura_pomifera\n",
      "freq                  1               353\n"
     ]
    }
   ],
   "source": [
    "# 总文件目录\n",
    "data_dir = 'E:/My Code/Jupyter/Kaggle/叶子分类'\n",
    "\n",
    "# 训练集csv文件\n",
    "train_dataframe = pd.read_csv(os.path.join(data_dir, 'train.csv'))\n",
    "\n",
    "# 测试集csv文件\n",
    "test_dataframe = pd.read_csv(os.path.join(data_dir, 'train.csv'))\n",
    "\n",
    "# 预览一下文件\n",
    "print(train_dataframe.head())\n",
    "print(test_dataframe.head())\n",
    "\n",
    "# 看一下文件的描述\n",
    "print(train_dataframe.describe())\n",
    "print(test_dataframe.describe())"
   ]
  }
 ],
 "metadata": {
  "kernelspec": {
   "display_name": "Python 3",
   "language": "python",
   "name": "python3"
  },
  "language_info": {
   "codemirror_mode": {
    "name": "ipython",
    "version": 3
   },
   "file_extension": ".py",
   "mimetype": "text/x-python",
   "name": "python",
   "nbconvert_exporter": "python",
   "pygments_lexer": "ipython3",
   "version": "3.8.8"
  }
 },
 "nbformat": 4,
 "nbformat_minor": 5
}
